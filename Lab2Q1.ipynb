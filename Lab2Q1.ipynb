{
 "cells": [
  {
   "cell_type": "code",
   "execution_count": 2,
   "metadata": {
    "collapsed": true
   },
   "outputs": [],
   "source": [
    "import numpy as np\n",
    "from sklearn.datasets import load_breast_cancer\n",
    "bc = load_breast_cancer()"
   ]
  },
  {
   "cell_type": "code",
   "execution_count": 3,
   "metadata": {},
   "outputs": [],
   "source": [
    "data_x = bc.data\n",
    "data_y = bc.target\n",
    "np.unique(data_y)\n",
    "np.random.seed(0)\n",
    "indices = np.random.permutation(len(data_x))"
   ]
  },
  {
   "cell_type": "code",
   "execution_count": 4,
   "metadata": {
    "collapsed": true
   },
   "outputs": [],
   "source": [
    "data_X_train = data_x[indices[:-70]]\n",
    "data_y_train = data_y[indices[:-70]]\n",
    "data_X_test = data_x[indices[-70:]]\n",
    "data_y_test = data_y[indices[-70:]]"
   ]
  },
  {
   "cell_type": "markdown",
   "metadata": {},
   "source": [
    "* Majority classifier"
   ]
  },
  {
   "cell_type": "code",
   "execution_count": 5,
   "metadata": {
    "collapsed": true
   },
   "outputs": [],
   "source": [
    "from sklearn.base import BaseEstimator, ClassifierMixin\n",
    "class MajorClassifier(BaseEstimator, ClassifierMixin):  \n",
    "    def __init__(self):\n",
    "        self.maxValue = 0\n",
    "    def fit(self,X,Y):\n",
    "        y = np.array(Y)\n",
    "        self.maxValue = max(set(y), key=y.tolist().count)\n",
    "    def predict(self,X):\n",
    "        ylist = [self.maxValue]*len(X)\n",
    "        return ylist"
   ]
  },
  {
   "cell_type": "code",
   "execution_count": 14,
   "metadata": {},
   "outputs": [
    {
     "name": "stdout",
     "output_type": "stream",
     "text": [
      "Score of Major classifier:  0.614285714286\n"
     ]
    }
   ],
   "source": [
    "mc = MajorClassifier()\n",
    "\n",
    "mc.fit(data_X_train,data_y_train)\n",
    "from sklearn.metrics import accuracy_score\n",
    "acc_temps = accuracy_score(data_y_test, mc.predict(data_X_test))\n",
    "print(\"Score of Major classifier: \",acc_temps)"
   ]
  },
  {
   "cell_type": "markdown",
   "metadata": {},
   "source": [
    "We could find that majority classifier has 60% accuracy is due to only 2 class classifier and we simply choose the majority."
   ]
  },
  {
   "cell_type": "markdown",
   "metadata": {
    "collapsed": true
   },
   "source": [
    "* Option(LR classifier)"
   ]
  },
  {
   "cell_type": "code",
   "execution_count": 7,
   "metadata": {
    "collapsed": true
   },
   "outputs": [],
   "source": [
    "from numpy import *  \n",
    "import time \n",
    "\n",
    "def sigmoid(X):\n",
    "    return 1.0/(1+exp(-X))"
   ]
  },
  {
   "cell_type": "code",
   "execution_count": 9,
   "metadata": {},
   "outputs": [],
   "source": [
    "class LRClassifier(BaseEstimator, ClassifierMixin): \n",
    "    def __init__(self):\n",
    "        self.weights = 0\n",
    "    def fit(self, X, Y, alpha, maxIter):\n",
    "        X = mat(X)\n",
    "        Y = mat(Y)\n",
    "        numSamp, numFeat = shape(X)\n",
    "        weights = ones((numFeat, 1))* 0.1\n",
    "\n",
    "        for k in range(maxIter):\n",
    "            for i in range(numSamp):\n",
    "                t = X[i, :] * weights\n",
    "                y = 1.0/(1+exp(-t))\n",
    "                error =  Y[0, i] - y   \n",
    "                weights = weights + alpha * X[i, :].transpose()* error\n",
    "        self.weights = weights\n",
    "\n",
    "    def predict(self, X):\n",
    "        X = mat(X)\n",
    "        weights = self.weights\n",
    "        numSamp, numFeat = shape(X)\n",
    "        ylist = [1] * numSamp\n",
    "        for i in range(numSamp):\n",
    "            temp = sigmoid(X[i, :] * weights)\n",
    "            if temp < 0.5:\n",
    "                ylist[i] = 0\n",
    "        return ylist"
   ]
  },
  {
   "cell_type": "code",
   "execution_count": 12,
   "metadata": {},
   
   "source": [
    "LRc = LRClassifier()\n",
    "LRc.fit(data_X_train,data_y_train, 0.6, 40)\n",
    "acc_temps = accuracy_score(data_y_test, LRc.predict(data_X_test))"
   ]
  },
  {
   "cell_type": "code",
   "execution_count": 13,
   "metadata": {},
   "outputs": [
    {
     "name": "stdout",
     "output_type": "stream",
     "text": [
      "Score of LR classifier: 0.928571428571\n"
     ]
    }
   ],
   "source": [
    "print(\"Score of LR classifier:\",acc_temps)"
   ]
  },
  {
   "cell_type": "markdown",
   "metadata": {},
   "source": [
    "We could find that the LR classifier has a much better performance than the majority classifier"
   ]
  }
 ],
 "metadata": {
  "kernelspec": {
   "display_name": "Python 3",
   "language": "python",
   "name": "python3"
  },
  "language_info": {
   "codemirror_mode": {
    "name": "ipython",
    "version": 3
   },
   "file_extension": ".py",
   "mimetype": "text/x-python",
   "name": "python",
   "nbconvert_exporter": "python",
   "pygments_lexer": "ipython3",
   "version": "3.6.2"
  }
 },
 "nbformat": 4,
 "nbformat_minor": 2
}
